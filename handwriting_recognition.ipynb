{
  "nbformat": 4,
  "nbformat_minor": 0,
  "metadata": {
    "colab": {
      "name": "handwriting recognition.ipynb",
      "provenance": [],
      "collapsed_sections": [],
      "authorship_tag": "ABX9TyMRogKEArTVBWoy0I+R1FfK",
      "include_colab_link": true
    },
    "kernelspec": {
      "name": "python3",
      "display_name": "Python 3"
    },
    "language_info": {
      "name": "python"
    }
  },
  "cells": [
    {
      "cell_type": "markdown",
      "metadata": {
        "id": "view-in-github",
        "colab_type": "text"
      },
      "source": [
        "<a href=\"https://colab.research.google.com/github/2ood/prml/blob/main/handwriting_recognition.ipynb\" target=\"_parent\"><img src=\"https://colab.research.google.com/assets/colab-badge.svg\" alt=\"Open In Colab\"/></a>"
      ]
    },
    {
      "cell_type": "markdown",
      "source": [
        "## 1. Download sample data"
      ],
      "metadata": {
        "id": "vT5dYaGatLdJ"
      }
    },
    {
      "cell_type": "code",
      "source": [
        "from keras.datasets import mnist\n",
        "import matplotlib.pyplot as plt\n",
        "import numpy as np"
      ],
      "metadata": {
        "id": "sC4R2Dbgfsfk"
      },
      "execution_count": 3,
      "outputs": []
    },
    {
      "cell_type": "code",
      "source": [
        "((image_train_raw, label_train_raw), (image_test_raw, image_test_raw)) = mnist.load_data()"
      ],
      "metadata": {
        "colab": {
          "base_uri": "https://localhost:8080/"
        },
        "id": "fy4drls6fpT3",
        "outputId": "4d2cdaaa-8058-4be9-894f-77b7a128b9ad"
      },
      "execution_count": 4,
      "outputs": [
        {
          "output_type": "stream",
          "name": "stdout",
          "text": [
            "Downloading data from https://storage.googleapis.com/tensorflow/tf-keras-datasets/mnist.npz\n",
            "11493376/11490434 [==============================] - 0s 0us/step\n",
            "11501568/11490434 [==============================] - 0s 0us/step\n"
          ]
        }
      ]
    },
    {
      "cell_type": "code",
      "source": [
        "image_train_raw.shape"
      ],
      "metadata": {
        "colab": {
          "base_uri": "https://localhost:8080/"
        },
        "id": "HZmxA5vZiPHn",
        "outputId": "42cb9b6e-f325-4be6-f087-0e8aae2d1dab"
      },
      "execution_count": 6,
      "outputs": [
        {
          "output_type": "execute_result",
          "data": {
            "text/plain": [
              "(60000, 28, 28)"
            ]
          },
          "metadata": {},
          "execution_count": 6
        }
      ]
    },
    {
      "cell_type": "code",
      "source": [
        "class Model :\n",
        "  def __init__(self, learning_rate, weight_0_scale, weight_1_scale) :\n",
        "    self.LEARNING_RATE = learning_rate\n",
        "\n",
        "    self.UNIT_NUM_0 = 28*28 ## number of units in first layer = raw trainset\n",
        "    self.UNIT_NUM_1 = 28\n",
        "    self.UNIT_NUM_2 = 10\n",
        "\n",
        "    ## initialize with gaussian normal\n",
        "    self.weight_0 = np.random.normal(loc = 0.0, scale = weight_0_scale, size = [self.UNIT_NUM_1,self.UNIT_NUM_0]) ## [28,784]\n",
        "    self.weight_1 = np.random.normal(loc = 0.0, scale = weight_1_scale, size = [self.UNIT_NUM_2,self.UNIT_NUM_1]) ## [28,10]\n",
        "\n",
        "    self.del_weight_0 = np.empty(self.weight_0.shape)\n",
        "    self.del_weight_1 = np.empty(self.weight_1.shape)\n",
        "\n",
        "    self.UNIT_0 = np.empty(self.UNIT_NUM_0) ## make it row vector\n",
        "    self.UNIT_1 = np.empty(self.UNIT_NUM_1)\n",
        "    self.UNIT_2 = np.empty(self.UNIT_NUM_2)\n",
        "\n",
        "    self.a_1 = np.empty(self.UNIT_NUM_1)\n",
        "    self.a_2 = np.empty(self.UNIT_NUM_2)\n",
        "\n",
        "  \n",
        "  def activation(self, arg) :\n",
        "    return self.sigmoid(arg)\n",
        "\n",
        "  def activation_derivative(self,arg) :\n",
        "    sig = self.sigmoid(arg)\n",
        "    return sig*(1-sig)\n",
        "\n",
        "  def sigmoid(self,arg) :\n",
        "    return 1.0/(1+np.exp(-arg)) \n",
        "\n",
        "  def t_vector(self,t,length):\n",
        "    result = np.zeros(length)\n",
        "    result[t] = 1\n",
        "    return result\n",
        "\n",
        "  def forwardprop(self, input):\n",
        "    preprocessed = (input/256.0)\n",
        "    preprocessed = preprocessed.reshape([28*28,])\n",
        "    preprocessed[28*28-1] = 1\n",
        "\n",
        "    self.UNIT_0 = preprocessed\n",
        "\n",
        "    self.a_1 = self.weight_0.dot(self.UNIT_0)\n",
        "\n",
        "    for i in np.arange(self.UNIT_NUM_1) :\n",
        "        self.UNIT_1[i] = self.activation(self.a_1[i])\n",
        "\n",
        "    self.a_2 = self.weight_1.dot(self.UNIT_1) \n",
        "\n",
        "    for i in np.arange(self.UNIT_NUM_2) :\n",
        "        self.UNIT_2[i] = self.sigmoid(self.a_2[i])\n",
        "    \n",
        "    return self.UNIT_2\n",
        "\n",
        "\n",
        "  def backprop(self, t) :\n",
        "    t_vec = self.t_vector(t,self.UNIT_NUM_2)\n",
        "    del_2 = self.UNIT_2 - t_vec\n",
        "    del_1 = np.empty(self.UNIT_NUM_1)\n",
        "    \n",
        "    z= np.transpose(del_2).dot(self.weight_1)\n",
        "\n",
        "    for i in np.arange(self.UNIT_NUM_1):\n",
        "        del_1[i] = self.activation_derivative(self.a_1[i]) * z[i]\n",
        "\n",
        "    self.del_weight_1 = np.empty(self.weight_1.shape)\n",
        "    self.del_weight_0 = np.empty(self.weight_0.shape)\n",
        "\n",
        "    for i in np.arange(self.UNIT_NUM_2) :\n",
        "      for j in np.arange(self.UNIT_NUM_1) :\n",
        "        self.del_weight_1[i][j] = del_2[i]*self.UNIT_1[j]\n",
        "\n",
        "    for i in np.arange(self.UNIT_NUM_1) :\n",
        "      for j in np.arange(self.UNIT_NUM_0) :\n",
        "        self.del_weight_0[i][j] = del_1[i]*self.UNIT_0[j]\n",
        "\n",
        "    self.weight_0 -= self.LEARNING_RATE * self.del_weight_0\n",
        "    self.weight_1 -= self.LEARNING_RATE * self.del_weight_1\n",
        "\n",
        "  def guess(self, input) :\n",
        "    y = self.forwardprop(input)\n",
        "    index_of_max = 0\n",
        "    sum = 0\n",
        "    for i in np.arange(self.UNIT_NUM_2):\n",
        "      sum += y[i]\n",
        "      index_of_max = i if y[index_of_max] < y[i] else index_of_max\n",
        "    \n",
        "    return (f'I think it is {index_of_max}. I am {(y[index_of_max] / sum * 100).round(decimals = 1)} % sure')\n"
      ],
      "metadata": {
        "id": "hP2iRR8eiQvA"
      },
      "execution_count": 17,
      "outputs": []
    },
    {
      "cell_type": "code",
      "source": [
        "image_train = np.reshape(image_train_raw,[60000, 28 * 28])\n",
        "label_train = np.reshape(label_train_raw,[60000,1])"
      ],
      "metadata": {
        "id": "20ynq4VnkJiM"
      },
      "execution_count": 8,
      "outputs": []
    },
    {
      "cell_type": "code",
      "source": [
        "m = Model(learning_rate = 0.01, weight_0_scale = 0.1,weight_1_scale = 0.3)\n",
        "\n",
        "ind = 0;"
      ],
      "metadata": {
        "id": "9uqMAFqNnlIR"
      },
      "execution_count": 18,
      "outputs": []
    },
    {
      "cell_type": "code",
      "source": [
        "for i in range(1000*ind,1000*(ind+1)) :\n",
        "  input = image_train[i]\n",
        "  t = label_train[i][0]\n",
        "  y = m.forwardprop(input)\n",
        "  m.backprop(t)\n",
        "\n",
        "ind +=1\n",
        "\n",
        "index = 15000\n",
        "\n",
        "figure = plt.figure()\n",
        "figure.set_size_inches(20,5)\n",
        "\n",
        "axes = []\n",
        "axes.append(figure.add_subplot(1, 2, 1))\n",
        "axes.append(figure.add_subplot(1,2,2))\n",
        "axes[0].matshow(image_train_raw[index])\n",
        "\n",
        "print(m.guess(image_train[index]))\n",
        "#print(m.weight_0)\n",
        "#print('a_1 is')\n",
        "#print(m.a_1)\n",
        "#print(m.UNIT_1)\n",
        "#print(m.a_2)\n",
        "print(m.UNIT_2.round(decimals=4))\n",
        "print(f'currently trained till {ind*1000}')\n",
        "axes[1].plot(m.UNIT_2)"
      ],
      "metadata": {
        "colab": {
          "base_uri": "https://localhost:8080/",
          "height": 406
        },
        "id": "CTFqIJYsi-me",
        "outputId": "f34b4485-ae08-4d36-8ae9-f3edceda61d6"
      },
      "execution_count": 28,
      "outputs": [
        {
          "output_type": "stream",
          "name": "stdout",
          "text": [
            "I think it is 5. I am 39.4 % sure\n",
            "[0.018  0.0036 0.0005 0.0187 0.0187 0.1773 0.0222 0.0012 0.0804 0.1091]\n",
            "currently trained till 10000\n"
          ]
        },
        {
          "output_type": "execute_result",
          "data": {
            "text/plain": [
              "[<matplotlib.lines.Line2D at 0x7f5dbb76d690>]"
            ]
          },
          "metadata": {},
          "execution_count": 28
        },
        {
          "output_type": "display_data",
          "data": {
            "text/plain": [
              "<Figure size 1440x360 with 2 Axes>"
            ],
            "image/png": "[encoded data removed]"
          },
          "metadata": {
            "needs_background": "light"
          }
        }
      ]
    },
    {
      "cell_type": "code",
      "source": [
        "\n"
      ],
      "metadata": {
        "id": "cY1GLxsfMpWg"
      },
      "execution_count": 565,
      "outputs": []
    },
    {
      "cell_type": "code",
      "source": [
        ""
      ],
      "metadata": {
        "id": "ID8bVjJ0qyVZ"
      },
      "execution_count": 67,
      "outputs": []
    }
  ]
}