{
 "cells": [
  {
   "cell_type": "markdown",
   "metadata": {},
   "source": [
    "# Logistic Regression \n",
    "Optimization objective : \n",
    "\\begin{align*}\n",
    "\\text{minimize}_{\\theta \\in \\mathbb{R}^d} \\quad {1 \\over N} \\sum_{i = 1}^N \\log(1 + \\exp(-Y_i X_i^\\top \\theta))\n",
    "\\end{align*}"
   ]
  },
  {
   "cell_type": "markdown",
   "metadata": {},
   "source": [
    "Suppose that we are using a stochastic gradient descent algorithm. Then, the gradient of the loss function is obviously \n",
    "$$\n",
    "-Y_i X_i {\\exp(-Y_i X_i^\\top\\theta) \\over {1 + \\exp(-Y_i X_i^\\top\\theta)}}.\n",
    "$$\n",
    "Please make sure that you understand this. "
   ]
  },
  {
   "cell_type": "code",
   "execution_count": 1,
   "metadata": {},
   "outputs": [
    {
     "data": {
      "image/png": "[encoded data removed]",
      "text/plain": [
       "<Figure size 576x360 with 1 Axes>"
      ]
     },
     "metadata": {
      "needs_background": "light"
     },
     "output_type": "display_data"
    }
   ],
   "source": [
    "import numpy as np\n",
    "import matplotlib.pyplot as plt\n",
    "%matplotlib inline\n",
    "from math import exp, log\n",
    "\n",
    "#######################################\n",
    "### STEP 1 : Sample data generation ###\n",
    "#######################################\n",
    "N, d = 30, 20\n",
    "np.random.seed(0)\n",
    "X = np.random.randn(N, d)\n",
    "Y = 2 * np.random.randint(2, size = N) - 1\n",
    "\n",
    "\n",
    "###################################\n",
    "### STEP 2 : SGD implementation ###\n",
    "###################################\n",
    "theta = np.random.randn(d) * 1e-2\n",
    "K = 500     # number of epochs\n",
    "alpha = 0.0003\n",
    "f_val = []\n",
    "\n",
    "for iter_ in range(K * N) : \n",
    "    idx = np.random.randint(N)\n",
    "\n",
    "    temp = np.exp(-Y[idx] * X[idx, :].T * theta)\n",
    "    d_theta = (temp / (1 + temp)) * (-Y[idx] * X[idx, :])\n",
    "    theta -= alpha * d_theta\n",
    "\n",
    "    if iter_ % N == 0 : \n",
    "        f_val.append(np.log(1 + np.exp(-Y.T @ X @ theta)))    \n",
    "\n",
    "plt.figure(figsize = (8, 5))\n",
    "plt.plot(np.arange(K), f_val, color = \"blue\", label = \"SGD\")\n",
    "plt.xlabel(\"Epochs\")\n",
    "plt.ylabel('Loss function')\n",
    "plt.legend()\n",
    "plt.show()"
   ]
  }
 ],
 "metadata": {
  "interpreter": {
   "hash": "31f2aee4e71d21fbe5cf8b01ff0e069b9275f58929596ceb00d14d90e3e16cd6"
  },
  "kernelspec": {
   "display_name": "Python 3 (ipykernel)",
   "language": "python",
   "name": "python3"
  },
  "language_info": {
   "codemirror_mode": {
    "name": "ipython",
    "version": 3
   },
   "file_extension": ".py",
   "mimetype": "text/x-python",
   "name": "python",
   "nbconvert_exporter": "python",
   "pygments_lexer": "ipython3",
   "version": "3.7.6"
  }
 },
 "nbformat": 4,
 "nbformat_minor": 2
}
