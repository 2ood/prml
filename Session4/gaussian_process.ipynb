{
 "cells": [
  {
   "cell_type": "code",
   "execution_count": 2,
   "id": "b1240d04-3bc3-426c-9adb-182d2ea6dac7",
   "metadata": {},
   "outputs": [],
   "source": [
    "import torch \n",
    "import torch.nn as nn\n",
    "import numpy as np \n",
    "import matplotlib.pyplot as plt"
   ]
  },
  {
   "cell_type": "markdown",
   "id": "89971d82-55d0-49df-b2b3-89ab1de1572f",
   "metadata": {},
   "source": [
    "# Sample Code \n",
    "\n",
    "Here, we wish to solve a (scalar) regression problem. The following code is a simple implementation of Gaussian process using RF kernel. Here, $\\{(x_i, y_i)\\}_{i = 1}^N$ is generated a priori, and we will infer $f_\\theta(\\cdot) : \\mathbb{R} \\rightarrow \\mathbb{R}$ such that $f_\\theta(x) \\simeq f_{\\mathrm{true}}(x)$. \n",
    "\n",
    "For details regarding the RBF kernel and Gaussian process, please refer to my slide. "
   ]
  },
  {
   "cell_type": "code",
   "execution_count": 3,
   "id": "e84624a9-21f9-49a5-a7e0-4766368402a8",
   "metadata": {},
   "outputs": [],
   "source": [
    "def f_true(x) : \n",
    "    '''\n",
    "    Our true function. We wish to approximate this function via kernel method.\n",
    "    '''\n",
    "    return (x - 2) * np.cos(4 * x)\n",
    "\n",
    "\n",
    "def kernel(x, y, theta) : \n",
    "    '''\n",
    "    Our kernel function. We wish to solve a regression problem with the kernel function. \n",
    "    '''\n",
    "    return theta[0] * torch.exp((-theta[1] / 2) * (x - y )** 2) + theta[2] + theta[3] * x.T * y\n",
    "\n",
    "\n",
    "\n",
    "##############################\n",
    "## STEP 1 : Data Generation ##\n",
    "##############################\n",
    "\n",
    "N = 100\n",
    "X = np.random.normal(loc = 0.0, scale = 1, size = N)\n",
    "Y = f_true(X)\n",
    "T = Y + np.random.normal(loc = 0.0, scale = 0.05, size = N)     # random error\n",
    "\n",
    "X = torch.Tensor(X)\n",
    "T = torch.Tensor(T)\n",
    "EPOCH = 200\n",
    "\n",
    "##############################\n",
    "## STEP 2 : Define a model  ##\n",
    "##############################\n",
    "\n",
    "\n",
    "class GaussianKernelRegression(nn.Module) : \n",
    "    \"\"\"\n",
    "    A nn.Module object that serves as our model based on Gaussian Kernel.\n",
    "    Here, we solve a 1-dimensional regression problem (functional approximation). \n",
    "    \"\"\"\n",
    "    \n",
    "    def __init__(self, observed_X, observed_T, kernel_function = kernel, alpha = 0.5, beta = 0.6) : \n",
    "        super().__init__()\n",
    "        # Inputs and observations \n",
    "        self.X = observed_X\n",
    "        self.N = self.X.shape[0]\n",
    "        self.t = observed_T\n",
    "        \n",
    "        # Hyperparameters\n",
    "        self.alpha = alpha \n",
    "        self.beta = beta \n",
    "        \n",
    "        # Model, parameters and optimizer\n",
    "        self.kernel = kernel_function   \n",
    "        self.theta = torch.randn(4, requires_grad = True)   # optimization variable\n",
    "        self.optimizer = torch.optim.SGD([self.theta], lr = 0.001)\n",
    "    \n",
    "    \n",
    "    \n",
    "    def logProb(self) : \n",
    "        \"\"\"\n",
    "        This function calculates the log-posterior of t = (t_1, \\cdots, t_N). \n",
    "        We will use this function as a loss function.\n",
    "        \"\"\"\n",
    "        C = self.Cov()\n",
    "        loss = +0.5 * torch.log(torch.abs(torch.det(C))) + 0.5 * self.t.T @ torch.linalg.inv(C) @ self.t \n",
    "        return loss.requires_grad_(True)\n",
    "    \n",
    "    \n",
    "    def Gram(self) : \n",
    "        '''\n",
    "        This function calculates the gram matrix given the data and parameter. \n",
    "        '''\n",
    "        X = self.X\n",
    "        N = self.N\n",
    "        G = torch.zeros((N, N))\n",
    "        for i in range(N) :\n",
    "            for j in range(N) : \n",
    "                G[i, j] += self.kernel(X[i], X[j], self.theta)\n",
    "    \n",
    "        self.G = G.requires_grad_(True)\n",
    "        return self.G\n",
    "\n",
    "    \n",
    "    def Cov(self) : \n",
    "        '''\n",
    "        This function calculates the C_N matrix according to self.theta (parameter) value.\n",
    "        '''\n",
    "        C = self.Gram() + (1 / self.beta) * torch.eye(self.N)\n",
    "        self.C = C.requires_grad_(True)\n",
    "        self.C_inv = torch.linalg.inv(C).requires_grad_(True)\n",
    "        return self.C\n",
    "    \n",
    "    \n",
    "    def forward(self, x) : \n",
    "        '''\n",
    "        This function calculates the predicted value that corresponds to the given scalar input x.\n",
    "        Here, x is not observed. \n",
    "        '''\n",
    "        X = self.X\n",
    "        lambda_ = torch.Tensor([self.kernel(X[i], x, self.theta) for i in range(N)])\n",
    "        return lambda_.T @ self.C_inv @ self.t\n",
    "    \n",
    "    \n",
    "    def optimize_parameters(self) : \n",
    "        self.optimizer.zero_grad()\n",
    "        log_likelihood = self.logProb()\n",
    "        log_likelihood.requires_grad_(True)\n",
    "        print(f\" === [Epoch {self.epoch + 1}] === Loss : {log_likelihood}\")\n",
    "        self.theta.retain_grad()\n",
    "        log_likelihood.backward()\n",
    "        self.optimizer.step()\n",
    "        \n",
    "    \n",
    "    \n",
    "    def train(self) : \n",
    "        self.epoch = 0 \n",
    "        for i in range(EPOCH) : \n",
    "            self.optimize_parameters()\n",
    "            self.epoch += 1\n",
    "        \n",
    "    \n",
    "    def test(self) : \n",
    "        X = torch.linspace(start = -1, end = 1, steps = 100)\n",
    "        Y_true = f_true(X.numpy())\n",
    "        Predict = torch.zeros_like(X)\n",
    "        for i in range(100) : \n",
    "            Predict[i] = self.forward(X[i])\n",
    "        return X, Y_true, Predict"
   ]
  },
  {
   "cell_type": "code",
   "execution_count": 4,
   "id": "75f01f18-b320-456b-9824-d9f06124a073",
   "metadata": {},
   "outputs": [],
   "source": [
    "m = GaussianKernelRegression(X, T)"
   ]
  },
  {
   "cell_type": "code",
   "execution_count": 6,
   "id": "26151c4b-0229-4121-8cf0-6d5c22789c07",
   "metadata": {},
   "outputs": [
    {
     "data": {
      "text/plain": [
       "tensor([[ 1.2451, -1.2395,  0.8949,  ...,  1.3763,  1.2609,  0.7643],\n",
       "        [-1.2395,  3.9836, -0.5579,  ..., -1.6567, -1.2805, -0.3521],\n",
       "        [ 0.8949, -0.5579,  0.8522,  ...,  0.8584,  0.8929,  0.8066],\n",
       "        ...,\n",
       "        [ 1.3763, -1.6567,  0.8584,  ...,  1.6271,  1.4037,  0.6908],\n",
       "        [ 1.2609, -1.2805,  0.8929,  ...,  1.4037,  1.2778,  0.7580],\n",
       "        [ 0.7643, -0.3521,  0.8066,  ...,  0.6908,  0.7580,  0.7892]],\n",
       "       grad_fn=<CopySlices>)"
      ]
     },
     "execution_count": 6,
     "metadata": {},
     "output_type": "execute_result"
    }
   ],
   "source": [
    "m.Gram()  # Gram matrix must be a symmetric PSD. (Check it out!) "
   ]
  },
  {
   "cell_type": "code",
   "execution_count": null,
   "id": "55fd8367-8de1-4403-a28b-3d5219c53c0c",
   "metadata": {},
   "outputs": [],
   "source": [
    "m.train() # I have deleted the cell output because it is too long. "
   ]
  },
  {
   "cell_type": "code",
   "execution_count": 24,
   "id": "61d11396-a673-465d-9d00-45f0ce6049ac",
   "metadata": {},
   "outputs": [
    {
     "data": {
      "image/png": "[encoded data removed]",
      "text/plain": [
       "<Figure size 720x504 with 1 Axes>"
      ]
     },
     "metadata": {
      "needs_background": "light"
     },
     "output_type": "display_data"
    }
   ],
   "source": [
    "# We plot our result to see if the regression process is successfully solved. \n",
    "plt.figure(figsize = (10, 7))\n",
    "plt.plot(X, Y_true, 'rx', label ='Real Function')\n",
    "plt.plot(X, Predict.detach().numpy(), label = 'Infered Function')\n",
    "plt.legend(fontsize = 12)\n",
    "plt.title(\"Regression via Gaussian process - RBF kerenel\", fontsize = 17)\n",
    "plt.show()"
   ]
  }
 ],
 "metadata": {
  "kernelspec": {
   "display_name": "Python 3 (ipykernel)",
   "language": "python",
   "name": "python3"
  },
  "language_info": {
   "codemirror_mode": {
    "name": "ipython",
    "version": 3
   },
   "file_extension": ".py",
   "mimetype": "text/x-python",
   "name": "python",
   "nbconvert_exporter": "python",
   "pygments_lexer": "ipython3",
   "version": "3.9.7"
  }
 },
 "nbformat": 4,
 "nbformat_minor": 5
}
